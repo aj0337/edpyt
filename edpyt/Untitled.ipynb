{
 "cells": [
  {
   "cell_type": "code",
   "execution_count": 68,
   "metadata": {},
   "outputs": [],
   "source": [
    "from pyexact.build_mb_hamiltonian import *"
   ]
  },
  {
   "cell_type": "code",
   "execution_count": 2,
   "metadata": {},
   "outputs": [],
   "source": [
    "# system length\n",
    "L = 6\n",
    "# interaction\n",
    "U = 1."
   ]
  },
  {
   "cell_type": "code",
   "execution_count": 3,
   "metadata": {},
   "outputs": [],
   "source": [
    "# hopping matrix\n",
    "J = np.zeros((L,L))\n",
    "J[0,1:] = J[1:,0] = 2*np.random.random(L-1)-1"
   ]
  },
  {
   "cell_type": "code",
   "execution_count": 4,
   "metadata": {},
   "outputs": [
    {
     "data": {
      "text/plain": [
       "<matplotlib.image.AxesImage at 0x7f2c9d3ddbd0>"
      ]
     },
     "execution_count": 4,
     "metadata": {},
     "output_type": "execute_result"
    },
    {
     "data": {
      "image/png": "[encoded data removed]",
      "text/plain": [
       "<Figure size 432x288 with 1 Axes>"
      ]
     },
     "metadata": {
      "needs_background": "light"
     },
     "output_type": "display_data"
    }
   ],
   "source": [
    "plt.spy(J)"
   ]
  },
  {
   "cell_type": "code",
   "execution_count": 5,
   "metadata": {},
   "outputs": [],
   "source": [
    "# interaction matrix\n",
    "D = np.zeros_like(J)\n",
    "D[0,0] = U"
   ]
  },
  {
   "cell_type": "code",
   "execution_count": 6,
   "metadata": {},
   "outputs": [
    {
     "data": {
      "text/plain": [
       "<matplotlib.image.AxesImage at 0x7f2c9cb507d0>"
      ]
     },
     "execution_count": 6,
     "metadata": {},
     "output_type": "execute_result"
    },
    {
     "data": {
      "image/png": "[encoded data removed]",
      "text/plain": [
       "<Figure size 432x288 with 1 Axes>"
      ]
     },
     "metadata": {
      "needs_background": "light"
     },
     "output_type": "display_data"
    }
   ],
   "source": [
    "plt.spy(D)"
   ]
  },
  {
   "cell_type": "code",
   "execution_count": 62,
   "metadata": {},
   "outputs": [],
   "source": [
    "h = build_mb_hamiltonian(J,D,L,N=L//2,is_fermionic=True)"
   ]
  },
  {
   "cell_type": "code",
   "execution_count": 41,
   "metadata": {},
   "outputs": [],
   "source": [
    "build_mb_hamiltonian??"
   ]
  },
  {
   "cell_type": "code",
   "execution_count": 43,
   "metadata": {},
   "outputs": [
    {
     "data": {
      "text/plain": [
       "<module 'lanczos' from '/home/gag/Libraries/edpyt/edpyt/lanczos.py'>"
      ]
     },
     "execution_count": 43,
     "metadata": {},
     "output_type": "execute_result"
    }
   ],
   "source": [
    "import lanczos\n",
    "reload(lanczos)"
   ]
  },
  {
   "cell_type": "code",
   "execution_count": 44,
   "metadata": {},
   "outputs": [],
   "source": [
    "T = lanczos.LanczosTri(h)"
   ]
  },
  {
   "cell_type": "code",
   "execution_count": 47,
   "metadata": {},
   "outputs": [
    {
     "data": {
      "text/plain": [
       "<matplotlib.image.AxesImage at 0x7f2c7390b9d0>"
      ]
     },
     "execution_count": 47,
     "metadata": {},
     "output_type": "execute_result"
    },
    {
     "data": {
      "image/png": "[encoded data removed]",
      "text/plain": [
       "<Figure size 432x288 with 1 Axes>"
      ]
     },
     "metadata": {
      "needs_background": "light"
     },
     "output_type": "display_data"
    }
   ],
   "source": [
    "plt.spy(T, precision=1e-10)"
   ]
  },
  {
   "cell_type": "code",
   "execution_count": 48,
   "metadata": {},
   "outputs": [],
   "source": [
    "from scipy.sparse import linalg as sla"
   ]
  },
  {
   "cell_type": "code",
   "execution_count": 49,
   "metadata": {},
   "outputs": [],
   "source": [
    "e, v = sla.eigsh(h, which='SA')"
   ]
  },
  {
   "cell_type": "code",
   "execution_count": 50,
   "metadata": {},
   "outputs": [
    {
     "data": {
      "text/plain": [
       "(array([-1.95837573, -1.95837573, -1.95837573, -1.95837573, -1.95837573,\n",
       "        -1.95837573]),\n",
       " array([-1.22762433e-17,  2.31216995e-01]))"
      ]
     },
     "execution_count": 50,
     "metadata": {},
     "output_type": "execute_result"
    }
   ],
   "source": [
    "e, v[:2,0]"
   ]
  },
  {
   "cell_type": "code",
   "execution_count": 51,
   "metadata": {},
   "outputs": [
    {
     "data": {
      "text/plain": [
       "<matplotlib.image.AxesImage at 0x7f2c738f3f10>"
      ]
     },
     "execution_count": 51,
     "metadata": {},
     "output_type": "execute_result"
    },
    {
     "data": {
      "image/png": "[encoded data removed]",
      "text/plain": [
       "<Figure size 432x288 with 1 Axes>"
      ]
     },
     "metadata": {
      "needs_background": "light"
     },
     "output_type": "display_data"
    }
   ],
   "source": [
    "plt.spy(h)"
   ]
  },
  {
   "cell_type": "code",
   "execution_count": 34,
   "metadata": {},
   "outputs": [],
   "source": [
    "e1, v1 = sla.eigsh(h, v0=v[:,0], which='SA')"
   ]
  },
  {
   "cell_type": "code",
   "execution_count": 39,
   "metadata": {},
   "outputs": [
    {
     "data": {
      "text/plain": [
       "array([-1.34679625e-17,  1.28415208e-16,  3.63733070e-17,  5.24156741e-15,\n",
       "       -3.85804883e-17, -5.32844057e-15, -3.03706018e-15,  2.37035187e-01,\n",
       "       -8.34929827e-17, -5.61777332e-15, -3.74157004e-15,  2.26862422e-01,\n",
       "        3.89740781e-15, -2.23823678e-01, -2.13995077e-01,  5.93097944e-16,\n",
       "        8.05773756e-17,  5.65774354e-15,  3.77839097e-15, -2.28062768e-01,\n",
       "       -3.88141575e-15,  2.25119873e-01,  2.12491760e-01, -5.80780303e-16,\n",
       "       -4.60012534e-15,  2.09843427e-01,  2.27283329e-01, -5.79191432e-16,\n",
       "       -2.30044611e-01,  6.17810882e-16,  7.04004686e-16,  1.57981838e-16,\n",
       "       -4.54101728e-17, -5.78684329e-15, -3.58871267e-15,  2.30044611e-01,\n",
       "        3.74133165e-15, -2.27283329e-01, -2.09843427e-01,  6.50944037e-16,\n",
       "        4.49025855e-15, -2.12491760e-01, -2.25119873e-01,  6.65651390e-16,\n",
       "        2.28062768e-01, -6.94793112e-16, -7.75996678e-16, -1.39790630e-16,\n",
       "       -4.60037047e-15,  2.13995077e-01,  2.23823678e-01, -6.07756272e-16,\n",
       "       -2.26862422e-01,  6.31654895e-16,  8.15871532e-16,  1.23983292e-16,\n",
       "       -2.37035187e-01,  5.88674508e-16,  8.86372102e-16,  1.20089605e-16,\n",
       "       -9.77596799e-16, -1.26870031e-16, -3.02016161e-16,  2.60756311e-17])"
      ]
     },
     "execution_count": 39,
     "metadata": {},
     "output_type": "execute_result"
    }
   ],
   "source": [
    "v[:,0]"
   ]
  },
  {
   "cell_type": "code",
   "execution_count": 38,
   "metadata": {},
   "outputs": [
    {
     "data": {
      "text/plain": [
       "(array([ 4.49823672e-31,  2.94800053e-20,  1.02255580e-20,  1.11030391e-15,\n",
       "        -1.11650748e-20, -1.14757230e-15, -6.51396731e-16,  2.37035187e-01,\n",
       "        -1.50474676e-20, -1.21738290e-15, -7.87027624e-16,  2.26862422e-01,\n",
       "         8.33040093e-16, -2.23823678e-01, -2.13995077e-01,  1.43736394e-16,\n",
       "         1.46864027e-20,  1.21546715e-15,  7.75677162e-16, -2.28062768e-01,\n",
       "        -8.21277806e-16,  2.25119873e-01,  2.12491760e-01, -1.45648940e-16,\n",
       "        -9.76336239e-16,  2.09843427e-01,  2.27283329e-01, -1.22231285e-16,\n",
       "        -2.30044611e-01,  1.15383309e-16,  1.84833071e-16,  3.24307894e-20,\n",
       "        -1.40617592e-20, -1.21027589e-15, -7.55522715e-16,  2.30044611e-01,\n",
       "         8.00363298e-16, -2.27283329e-01, -2.09843427e-01,  1.49105856e-16,\n",
       "         9.53700561e-16, -2.12491760e-01, -2.25119873e-01,  1.25425344e-16,\n",
       "         2.28062768e-01, -1.18461295e-16, -1.85625881e-16, -3.38714117e-20,\n",
       "        -9.41177331e-16,  2.13995077e-01,  2.23823678e-01, -1.27221678e-16,\n",
       "        -2.26862422e-01,  1.20194736e-16,  1.85918454e-16,  3.47041396e-20,\n",
       "        -2.37035187e-01,  9.94811876e-17,  1.75256956e-16,  2.57501345e-20,\n",
       "        -1.69565458e-16, -2.35833166e-20, -6.79900595e-20, -8.55249907e-31]),\n",
       " -2.6040285290727403)"
      ]
     },
     "execution_count": 38,
     "metadata": {},
     "output_type": "execute_result"
    }
   ],
   "source": [
    "v1[:,0], e1[0]"
   ]
  },
  {
   "cell_type": "markdown",
   "metadata": {},
   "source": [
    "![title](permutations.png)"
   ]
  },
  {
   "cell_type": "code",
   "execution_count": 43,
   "metadata": {},
   "outputs": [
    {
     "data": {
      "text/plain": [
       "array([[-9.42846678e-17],\n",
       "       [ 2.34538970e-17],\n",
       "       [-2.21119370e-17],\n",
       "       [ 9.61489548e-03],\n",
       "       [ 1.03574837e-16],\n",
       "       [ 1.01718526e-02],\n",
       "       [ 9.40062010e-03],\n",
       "       [ 2.14825952e-01],\n",
       "       [-1.85908215e-16],\n",
       "       [-8.31739458e-03],\n",
       "       [-6.38869232e-03],\n",
       "       [-3.23882199e-01],\n",
       "       [-5.39527937e-03],\n",
       "       [-3.63546021e-01],\n",
       "       [-3.70414263e-01],\n",
       "       [-1.60678482e-16],\n",
       "       [ 1.11003286e-16],\n",
       "       [ 1.00178638e-02],\n",
       "       [ 9.83211205e-03],\n",
       "       [ 1.99492473e-01],\n",
       "       [ 8.75940290e-03],\n",
       "       [ 2.36224288e-01],\n",
       "       [ 3.07538776e-01],\n",
       "       [-5.98356524e-17],\n",
       "       [-5.80997374e-03],\n",
       "       [-3.47591444e-01],\n",
       "       [-3.76108054e-01],\n",
       "       [-2.62685597e-17],\n",
       "       [-3.55514357e-01],\n",
       "       [ 1.23064536e-16],\n",
       "       [ 6.56165106e-18],\n",
       "       [-9.03192284e-17]])"
      ]
     },
     "execution_count": 43,
     "metadata": {},
     "output_type": "execute_result"
    }
   ],
   "source": [
    "v0"
   ]
  }
 ],
 "metadata": {
  "kernelspec": {
   "display_name": "Python 3",
   "language": "python",
   "name": "python3"
  },
  "language_info": {
   "codemirror_mode": {
    "name": "ipython",
    "version": 3
   },
   "file_extension": ".py",
   "mimetype": "text/x-python",
   "name": "python",
   "nbconvert_exporter": "python",
   "pygments_lexer": "ipython3",
   "version": "3.7.6"
  }
 },
 "nbformat": 4,
 "nbformat_minor": 4
}
