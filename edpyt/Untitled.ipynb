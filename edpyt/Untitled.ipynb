{
 "cells": [
  {
   "cell_type": "code",
   "execution_count": 1,
   "metadata": {},
   "outputs": [],
   "source": [
    "from gf_lanczos import build_gf_lanczos\n",
    "from espace import build_espace\n",
    "from lookup import get_sector_index"
   ]
  },
  {
   "cell_type": "code",
   "execution_count": 2,
   "metadata": {},
   "outputs": [
    {
     "name": "stderr",
     "output_type": "stream",
     "text": [
      "/home/gag/anaconda3/lib/python3.7/site-packages/ase/io/jsonio.py:122: VisibleDeprecationWarning: Creating an ndarray from ragged nested sequences (which is a list-or-tuple of lists-or-tuples-or ndarrays with different lengths or shapes) is deprecated. If you meant to do this, you must specify 'dtype=object' when creating the ndarray\n",
      "  a = np.array(obj)\n"
     ]
    },
    {
     "name": "stdout",
     "output_type": "stream",
     "text": [
      "Condition number: 4.1e+04\n"
     ]
    }
   ],
   "source": [
    "from transport.greenfunction import GreenFunction\n",
    "from gpaw import GPAW\n",
    "from gpaw.lcao.pwf2 import LCAOwrap\n",
    "\n",
    "calc = GPAW('/home/gag/ownCloud/PTM/nospin/gs.gpw', txt=None)\n",
    "lcao = LCAOwrap(calc)\n",
    "\n",
    "H = lcao.get_hamiltonian()\n",
    "S = lcao.get_overlap()\n",
    "\n",
    "H -= calc.get_fermi_level() * S\n",
    "\n",
    "atoms = calc.atoms\n",
    "\n",
    "gf0  = GreenFunction(H, S, selfenergies=[])\n",
    "\n",
    "central_carbon = 22\n",
    "\n",
    "gf0.get_activespace(calc, central_carbon, key=lambda eig: abs(eig)<3)\n",
    "\n",
    "gf0.set(eta=0.25)\n",
    "gf0.initialize()"
   ]
  },
  {
   "cell_type": "code",
   "execution_count": 3,
   "metadata": {},
   "outputs": [],
   "source": [
    "eta = gf0.eta\n",
    "gf0.selfenergies[0].eta = gf0.eta"
   ]
  },
  {
   "cell_type": "code",
   "execution_count": 4,
   "metadata": {},
   "outputs": [],
   "source": [
    "def hybrid(sigma):\n",
    "    def inner(z):\n",
    "        res = np.zeros(len(z), complex)\n",
    "        for iz_, z_ in enumerate(z):\n",
    "            res[iz_] = sigma.retarded(z_-1.j*sigma.eta)\n",
    "        return res\n",
    "    return inner\n",
    "\n",
    "sigma = hybrid(gf0.selfenergies[0])\n",
    "# sigma = hybrid(gf0)"
   ]
  },
  {
   "cell_type": "code",
   "execution_count": 5,
   "metadata": {},
   "outputs": [
    {
     "data": {
      "text/plain": [
       "<module 'fit' from '/home/gag/Libraries/edpyt/edpyt/fit.py'>"
      ]
     },
     "execution_count": 5,
     "metadata": {},
     "output_type": "execute_result"
    }
   ],
   "source": [
    "import fit\n",
    "reload(fit)"
   ]
  },
  {
   "cell_type": "code",
   "execution_count": 18,
   "metadata": {},
   "outputs": [
    {
     "name": "stdout",
     "output_type": "stream",
     "text": [
      "Warning: Desired error not necessarily achieved due to precision loss.\n",
      "         Current function value: 0.000993\n",
      "         Iterations: 530\n",
      "         Function evaluations: 13872\n",
      "         Gradient evaluations: 660\n"
     ]
    }
   ],
   "source": [
    "Delta = fit.fit_hybrid(sigma, nbath=10, nmats=100)"
   ]
  },
  {
   "cell_type": "code",
   "execution_count": 19,
   "metadata": {},
   "outputs": [],
   "source": [
    "energies = np.arange(-2,2,1e-2)"
   ]
  },
  {
   "cell_type": "code",
   "execution_count": 20,
   "metadata": {},
   "outputs": [],
   "source": [
    "expected = np.zeros(len(energies), complex)\n",
    "for e, energy in enumerate(energies):\n",
    "    expected[e] = gf0.selfenergies[0].retarded(energy)"
   ]
  },
  {
   "cell_type": "code",
   "execution_count": 21,
   "metadata": {},
   "outputs": [],
   "source": [
    "computed = Delta(energies+1.j*eta)"
   ]
  },
  {
   "cell_type": "code",
   "execution_count": 28,
   "metadata": {},
   "outputs": [],
   "source": [
    "np.savetxt('a.txt', Delta.a)\n",
    "np.savetxt('b.txt', Delta.b)"
   ]
  },
  {
   "cell_type": "code",
   "execution_count": 23,
   "metadata": {},
   "outputs": [
    {
     "data": {
      "text/plain": [
       "[<matplotlib.lines.Line2D at 0x7fe6175f4210>,\n",
       " <matplotlib.lines.Line2D at 0x7fe6175f4310>]"
      ]
     },
     "execution_count": 23,
     "metadata": {},
     "output_type": "execute_result"
    },
    {
     "data": {
      "image/png": "[encoded data removed]",
      "text/plain": [
       "<Figure size 432x288 with 1 Axes>"
      ]
     },
     "metadata": {
      "needs_background": "light"
     },
     "output_type": "display_data"
    }
   ],
   "source": [
    "plt.plot(energies, expected.imag, 'k-', energies, computed.imag, 'r--')\n",
    "plt.plot(energies, expected.real, 'k-', energies, computed.real, 'r--')"
   ]
  },
  {
   "cell_type": "code",
   "execution_count": 90,
   "metadata": {},
   "outputs": [],
   "source": [
    "n = Delta.a.size + 1\n",
    "H = np.zeros((n,n))\n",
    "V = np.zeros((n,n))\n",
    "\n",
    "H[0,1:] = H[1:,0] = Delta.b\n",
    "for i in range(1,n):\n",
    "    H[i,i] = Delta.a[i-1]\n",
    "H[0,0] = gf0.H[0,0]\n",
    "\n",
    "U = 0.\n",
    "V[0,0] = U\n",
    "\n",
    "nup = 6\n",
    "ndw = 5\n",
    "neig_sector = np.zeros((n+1)*(n+1),int)\n",
    "neig_sector[get_sector_index(nup,ndw,n)] = 1\n",
    "neig_sector[get_sector_index(ndw,nup,n)] = 1\n",
    "\n",
    "eigen_space, egs = build_espace(H, V, neig_sector)\n",
    "\n",
    "gf = build_gf_lanczos(H, V, eigen_space, 0.)\n",
    "\n",
    "energies = np.arange(-2,2,1e-2)\n",
    "\n",
    "dos = -1/np.pi*gf(energies, eta).imag"
   ]
  },
  {
   "cell_type": "code",
   "execution_count": 91,
   "metadata": {},
   "outputs": [],
   "source": [
    "gf_analytic = lambda z: 1/(z-gf0.H[0,0]-Delta(z))"
   ]
  },
  {
   "cell_type": "code",
   "execution_count": 92,
   "metadata": {},
   "outputs": [],
   "source": [
    "dos_analytic = lambda z: -1/np.pi*gf_analytic(z).imag"
   ]
  },
  {
   "cell_type": "code",
   "execution_count": 93,
   "metadata": {},
   "outputs": [],
   "source": [
    "dos_orig = np.zeros_like(energies)\n",
    "for e, energy in enumerate(energies):\n",
    "    dos_orig[e] = gf0.dos(energy)"
   ]
  },
  {
   "cell_type": "code",
   "execution_count": 95,
   "metadata": {},
   "outputs": [
    {
     "data": {
      "text/plain": [
       "<matplotlib.legend.Legend at 0x7fe614963dd0>"
      ]
     },
     "execution_count": 95,
     "metadata": {},
     "output_type": "execute_result"
    },
    {
     "data": {
      "image/png": "[encoded data removed]",
      "text/plain": [
       "<Figure size 432x288 with 1 Axes>"
      ]
     },
     "metadata": {
      "needs_background": "light"
     },
     "output_type": "display_data"
    }
   ],
   "source": [
    "plt.plot(energies, dos_analytic(energies+1.j*eta), 'k--', label='Fit')\n",
    "plt.plot(energies, dos, '-', label='Fit analytic')\n",
    "plt.plot(energies, dos_orig, '--o', markersize=0.3, label='Original')\n",
    "plt.legend()"
   ]
  },
  {
   "cell_type": "code",
   "execution_count": 98,
   "metadata": {},
   "outputs": [],
   "source": [
    "U = 4.\n",
    "V[0,0] = U"
   ]
  },
  {
   "cell_type": "code",
   "execution_count": 112,
   "metadata": {},
   "outputs": [],
   "source": [
    "from shared import params\n",
    "params['hfmode'] = True"
   ]
  },
  {
   "cell_type": "code",
   "execution_count": 108,
   "metadata": {},
   "outputs": [],
   "source": [
    "eigen_space, egs = build_espace(H, V, neig_sector)"
   ]
  },
  {
   "cell_type": "code",
   "execution_count": 109,
   "metadata": {},
   "outputs": [],
   "source": [
    "gf = build_gf_lanczos(H, V, eigen_space, 0.)"
   ]
  },
  {
   "cell_type": "code",
   "execution_count": 110,
   "metadata": {},
   "outputs": [],
   "source": [
    "dos = -1/np.pi*gf(energies, eta).imag"
   ]
  },
  {
   "cell_type": "code",
   "execution_count": 111,
   "metadata": {},
   "outputs": [
    {
     "data": {
      "text/plain": [
       "[<matplotlib.lines.Line2D at 0x7fe614830bd0>]"
      ]
     },
     "execution_count": 111,
     "metadata": {},
     "output_type": "execute_result"
    },
    {
     "data": {
      "image/png": "[encoded data removed]",
      "text/plain": [
       "<Figure size 432x288 with 1 Axes>"
      ]
     },
     "metadata": {
      "needs_background": "light"
     },
     "output_type": "display_data"
    }
   ],
   "source": [
    "plt.plot(energies, dos)"
   ]
  },
  {
   "cell_type": "code",
   "execution_count": 132,
   "metadata": {},
   "outputs": [],
   "source": [
    "U = 2.\n",
    "V[0,0] = U"
   ]
  },
  {
   "cell_type": "code",
   "execution_count": 133,
   "metadata": {},
   "outputs": [],
   "source": [
    "from shared import params\n",
    "params['hfmode'] = True"
   ]
  },
  {
   "cell_type": "code",
   "execution_count": 134,
   "metadata": {},
   "outputs": [],
   "source": [
    "eigen_space, egs = build_espace(H, V, neig_sector)"
   ]
  },
  {
   "cell_type": "code",
   "execution_count": 135,
   "metadata": {},
   "outputs": [],
   "source": [
    "gf = build_gf_lanczos(H, V, eigen_space, 0.)"
   ]
  },
  {
   "cell_type": "code",
   "execution_count": 136,
   "metadata": {},
   "outputs": [],
   "source": [
    "energies = np.arange(-2,2,1e-2)"
   ]
  },
  {
   "cell_type": "code",
   "execution_count": 137,
   "metadata": {},
   "outputs": [],
   "source": [
    "dos = -1/np.pi*gf(energies, eta).imag"
   ]
  },
  {
   "cell_type": "code",
   "execution_count": 138,
   "metadata": {},
   "outputs": [
    {
     "data": {
      "text/plain": [
       "[<matplotlib.lines.Line2D at 0x7f6347cd2e10>]"
      ]
     },
     "execution_count": 138,
     "metadata": {},
     "output_type": "execute_result"
    },
    {
     "data": {
      "image/png": "[encoded data removed]",
      "text/plain": [
       "<Figure size 432x288 with 1 Axes>"
      ]
     },
     "metadata": {
      "needs_background": "light"
     },
     "output_type": "display_data"
    }
   ],
   "source": [
    "plt.plot(energies, dos)"
   ]
  },
  {
   "cell_type": "code",
   "execution_count": 55,
   "metadata": {},
   "outputs": [],
   "source": [
    "class SelfEnergyWrap:\n",
    "    def __init__(self, Delta, eta):\n",
    "        self.Delta = Delta\n",
    "        self.eta = eta\n",
    "    def retarded(self, energy):\n",
    "        z = np.array(energy+1.j*eta,ndmin=1)\n",
    "        return np.array(Delta(z),ndmin=2)"
   ]
  },
  {
   "cell_type": "code",
   "execution_count": 56,
   "metadata": {},
   "outputs": [],
   "source": [
    "selfenergy = SelfEnergyWrap(Delta, 1e-5)"
   ]
  },
  {
   "cell_type": "code",
   "execution_count": 57,
   "metadata": {},
   "outputs": [],
   "source": [
    "gf0.selfenergies[0] = selfenergy"
   ]
  },
  {
   "cell_type": "code",
   "execution_count": 58,
   "metadata": {},
   "outputs": [],
   "source": [
    "def get_dos0(energies, gf0):\n",
    "    dos = np.zeros(len(energies))\n",
    "    for e, energy in enumerate(energies):\n",
    "        dos[e] = -1/np.pi*gf0.retarded(energy).imag\n",
    "    return dos\n",
    "\n",
    "dos0 = get_dos0(energies, gf0)"
   ]
  },
  {
   "cell_type": "code",
   "execution_count": 59,
   "metadata": {},
   "outputs": [
    {
     "data": {
      "text/plain": [
       "[<matplotlib.lines.Line2D at 0x7f8af88d5e50>]"
      ]
     },
     "execution_count": 59,
     "metadata": {},
     "output_type": "execute_result"
    },
    {
     "data": {
      "image/png": "[encoded data removed]",
      "text/plain": [
       "<Figure size 432x288 with 1 Axes>"
      ]
     },
     "metadata": {
      "needs_background": "light"
     },
     "output_type": "display_data"
    }
   ],
   "source": [
    "plt.plot(energies, dos0)"
   ]
  },
  {
   "cell_type": "code",
   "execution_count": null,
   "metadata": {},
   "outputs": [],
   "source": []
  }
 ],
 "metadata": {
  "kernelspec": {
   "display_name": "Python 3",
   "language": "python",
   "name": "python3"
  },
  "language_info": {
   "codemirror_mode": {
    "name": "ipython",
    "version": 3
   },
   "file_extension": ".py",
   "mimetype": "text/x-python",
   "name": "python",
   "nbconvert_exporter": "python",
   "pygments_lexer": "ipython3",
   "version": "3.7.6"
  }
 },
 "nbformat": 4,
 "nbformat_minor": 4
}
